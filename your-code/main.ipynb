{
 "cells": [
  {
   "cell_type": "markdown",
   "metadata": {},
   "source": [
    "# Introduction To Probability\n",
    "## Challenge 1\n",
    "\n",
    "A and B are events of a probability space with $(\\omega, \\sigma, P)$ such that $P(A) = 0.3$, $P(B) = 0.6$ and $P(A \\cap B) = 0.1$\n",
    "\n",
    "Which of the following statements are false?\n",
    "* $P(A \\cup B) = 0.6$\n",
    "* $P(A \\cap B^{C}) = 0.2$\n",
    "* $P(A \\cap (B \\cup B^{C})) = 0.4$\n",
    "* $P(A^{C} \\cap B^{C}) = 0.3$\n",
    "* $P((A \\cap B)^{C}) = 0.9$"
   ]
  },
  {
   "cell_type": "code",
   "execution_count": 1,
   "metadata": {},
   "outputs": [
    {
     "data": {
      "text/plain": [
       "'\\nyour solution here\\n'"
      ]
     },
     "execution_count": 1,
     "metadata": {},
     "output_type": "execute_result"
    }
   ],
   "source": [
    "\"\"\"\n",
    "your solution here\n",
    "\"\"\"\n",
    "# 𝑃(𝐴∪𝐵)=0.6 -> FALSE\n",
    "# 𝑃(𝐴∪𝐵) = P(A) + P(B) - P(A - B) = 0.3 + 0.6 - 0.1 = 0.8\n",
    "\n",
    "# 𝑃(𝐴∩~𝐵) = 0.2 -> FALSE\n",
    "# P(A and ~B) = by complementarity P(A) - P(A and B) == 0.3 - 0.1 = 0.2\n",
    "\n",
    "# p(A and (B or ~B)) = 0.4 -> FALSE\n",
    "# p(A and (B or ~B)) = P(A and omega) = P(A) = 0.3\n",
    "\n",
    "# 𝑃(𝐴𝐶∩𝐵𝐶)=0.3 FALSE\n",
    "# P(~A and ~B) = 0.3\n",
    "# P(~A and ~B) = 1 - 𝑃(𝐴∪𝐵) = 1 - 0.6 = 0.4 \n",
    "\n",
    "# 𝑃((𝐴∩𝐵)𝐶)=0.9 TRUE\n",
    "# p(~(A and B)) = 0.9\n",
    "# p(~(A and B)) = 1 - P(A and B) = 1 - 0.1 = 0.9"
   ]
  },
  {
   "cell_type": "markdown",
   "metadata": {},
   "source": [
    "## Challenge 2\n",
    "There is a box with 10 white balls, 12 red balls and 8 black balls. Calculate the probability of:\n",
    "* Taking a white ball out.\n",
    "* Taking a white ball out after taking a black ball out.\n",
    "* Taking a red ball out after taking a black and a red ball out.\n",
    "* Taking a red ball out after taking a black and a red ball out with reposition.\n",
    "\n",
    "**Hint**: Reposition means putting back the ball into the box after taking it out."
   ]
  },
  {
   "cell_type": "code",
   "execution_count": 1,
   "metadata": {},
   "outputs": [
    {
     "data": {
      "text/plain": [
       "'\\nyour solution here\\n'"
      ]
     },
     "execution_count": 1,
     "metadata": {},
     "output_type": "execute_result"
    }
   ],
   "source": [
    "\"\"\"\n",
    "your solution here\n",
    "\"\"\"\n",
    "# Taking a white ball out\n",
    "# (cases in favour) / (total cases)\n",
    "# 10 / (10+12+8) = 10 / 20 = 1 / 2 = 0.5\n",
    "\n",
    "# Taking a white ball out after taking a black ball out.\n",
    "# (cases in favour) / (total cases)\n",
    "# 10 / (10+12+8-1) = 10 / 19 \n",
    "\n",
    "# Taking a red ball out after taking a black and a red ball out.\n",
    "# (cases in favour) / (total cases)\n",
    "# (8-1) / (10 + 12 - 1 + 8 -1) = 7 / 18\n",
    "\n",
    "# Taking a red ball out after taking a black and a red ball out with reposition.\n",
    "# after the reposition we are again in the initial conditions so\n",
    "# (cases in favour) / (total cases)\n",
    "# 12 / (10+12+8) = 12 / 20 = 3 / 5 = 0.6"
   ]
  },
  {
   "cell_type": "markdown",
   "metadata": {},
   "source": [
    "## Challenge 3\n",
    "\n",
    "You are planning to go on a picnic today but the morning is cloudy. You hate rain so you don't know whether to go out or stay home! To help you make a decision, you gather the following data about rainy days:\n",
    "\n",
    "* Knowing that it is a rainy day, the probability of cloudy is 50%!\n",
    "* The probability of any day (rainy or not) starting off cloudy is 40%. \n",
    "* This month is usually dry so only 3 of 30 days (10%) tend to be rainy. \n",
    "\n",
    "What is the probability of rain, given the day started cloudy?"
   ]
  },
  {
   "cell_type": "code",
   "execution_count": 4,
   "metadata": {},
   "outputs": [
    {
     "data": {
      "text/plain": [
       "'\\nyour solution here\\n'"
      ]
     },
     "execution_count": 4,
     "metadata": {},
     "output_type": "execute_result"
    }
   ],
   "source": [
    "\"\"\"\n",
    "your solution here\n",
    "\"\"\"\n",
    "# R -> 'rainy day', C -> 'cloudy'\n",
    "# Knowing that it is a rainy day, the probability of cloudy is 50%! -> P(C|R) = 0.5\n",
    "# The probability of any day (rainy or not) starting off cloudy is 40%. -> P(C) = 0.4\n",
    "# This month is usually dry so only 3 of 30 days (10%) tend to be rainy. -> P(R) = 0.1\n",
    "# What is the probability of rain, given the day started cloudy? -> P(R|C) = ?\n",
    "# P(R|C) = P(R and C) / P(C) = (P(C|R) * P(R)) / P(C) = (0.5 * 0.1) / (0.4) = 0.125\n",
    "\n",
    "# The probability of rain, given the day started cloudy is 0.125 or 12.5%"
   ]
  },
  {
   "cell_type": "markdown",
   "metadata": {},
   "source": [
    "## Challenge 4\n",
    "\n",
    "One thousand people were asked through a telephone survey whether they thought more street lighting is needed at night or not.\n",
    "\n",
    "Out of the 480 men that answered the survey, 324 said yes and 156 said no. On the other hand, out of the 520 women that answered, 351 said yes and 169 said no. \n",
    "\n",
    "We wonder if men and women have a different opinions about the street lighting matter. Is gender relevant or irrelevant to the question?\n",
    "\n",
    "Consider the following events:\n",
    "- The answer is yes, so the person that answered thinks that more street lighting is needed.\n",
    "- The person who answered is a man.\n",
    "\n",
    "We want to know if these events are independent, that is, if the fact of wanting more light depends on whether one is male or female. Are these events independent or not?\n",
    "\n",
    "**Hint**: To clearly compare the answers by gender, it is best to place the data in a table."
   ]
  },
  {
   "cell_type": "code",
   "execution_count": null,
   "metadata": {},
   "outputs": [],
   "source": [
    "# your code here"
   ]
  },
  {
   "cell_type": "code",
   "execution_count": null,
   "metadata": {},
   "outputs": [],
   "source": [
    "\"\"\"\n",
    "your solution here\n",
    "\"\"\""
   ]
  }
 ],
 "metadata": {
  "kernelspec": {
   "display_name": "Python 3",
   "language": "python",
   "name": "python3"
  },
  "language_info": {
   "codemirror_mode": {
    "name": "ipython",
    "version": 3
   },
   "file_extension": ".py",
   "mimetype": "text/x-python",
   "name": "python",
   "nbconvert_exporter": "python",
   "pygments_lexer": "ipython3",
   "version": "3.8.8"
  }
 },
 "nbformat": 4,
 "nbformat_minor": 2
}
